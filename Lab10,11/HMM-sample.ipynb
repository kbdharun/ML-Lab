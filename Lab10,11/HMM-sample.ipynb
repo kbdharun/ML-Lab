{
 "cells": [
  {
   "cell_type": "markdown",
   "id": "28dd0ef0",
   "metadata": {},
   "source": [
    "# Bare Bones Hidden Markov Model Program"
   ]
  },
  {
   "cell_type": "code",
   "execution_count": 3,
   "id": "a276025d",
   "metadata": {},
   "outputs": [
    {
     "name": "stdout",
     "output_type": "stream",
     "text": [
      "Most likely hidden state sequence: ['hot', 'hot', 'cold']\n"
     ]
    }
   ],
   "source": [
    "def viterbi(obs, states, start_p, trans_p, emit_p):\n",
    "    V = [{}]\n",
    "    path = {}\n",
    "    \n",
    "    # Initialization step\n",
    "    for st in states:\n",
    "        V[0][st] = {\"prob\": start_p[st] * emit_p[st][obs[0]], \"prev\": None}\n",
    "        path[st] = [st]\n",
    "    \n",
    "    # Recursion step\n",
    "    for t in range(1, len(obs)):\n",
    "        V.append({})\n",
    "        new_path = {}\n",
    "        for st in states:\n",
    "            max_prob, prev_st = max((V[t-1][prev_st][\"prob\"] * trans_p[prev_st][st], prev_st) for prev_st in states)\n",
    "            V[t][st] = {\"prob\": max_prob * emit_p[st][obs[t]], \"prev\": prev_st}\n",
    "            new_path[st] = path[prev_st] + [st]\n",
    "        path = new_path\n",
    "    \n",
    "    # Termination step\n",
    "    max_prob, best_st = max((V[len(obs)-1][st][\"prob\"], st) for st in states)\n",
    "    best_path = path[best_st]\n",
    "    \n",
    "    return best_path\n",
    "\n",
    "# Example usage\n",
    "observations = [\"1\", \"3\", \"1\"]\n",
    "states = [\"hot\", \"cold\"]\n",
    "start_p = {\"hot\": 0.8, \"cold\": 0.2}\n",
    "trans_p = {\n",
    "    \"hot\": {\"hot\": 0.7, \"cold\": 0.3},\n",
    "    \"cold\": {\"hot\": 0.4, \"cold\": 0.6},\n",
    "}\n",
    "emit_p = {\n",
    "    \"hot\": {\"1\": 0.2, \"2\": 0.4, \"3\": 0.4},\n",
    "    \"cold\": {\"1\": 0.5, \"2\": 0.4, \"3\": 0.1},\n",
    "}\n",
    "\n",
    "result = viterbi(observations, states, start_p, trans_p, emit_p)\n",
    "print(\"Most likely hidden state sequence:\", result)\n"
   ]
  },
  {
   "cell_type": "code",
   "execution_count": 4,
   "id": "cf3d1bde",
   "metadata": {},
   "outputs": [
    {
     "name": "stdout",
     "output_type": "stream",
     "text": [
      "Most likely hidden state sequence: ['sunny', 'sunny', 'rainy']\n"
     ]
    }
   ],
   "source": [
    "# Example usage\n",
    "observations = [\"coat\", \"coat\", \"umberlla\"]\n",
    "states = [\"sunny\", \"rainy\",\"cloudy\"]\n",
    "start_p = {\"sunny\": 0.75, \"rainy\": 0.2,\"cloudy\":0.05}\n",
    "trans_p = {\n",
    "    \"sunny\": {\"sunny\": 0.8, \"rainy\": 0.3,\"cloudy\":0.05},\n",
    "    \"rainy\": {\"sunny\": 0.38, \"rainy\": 0.6,\"cloudy\":0.02},\n",
    "    \"cloudy\":{\"sunny\":0.75,\"rainy\":0.05,\"cloudy\":0.2}\n",
    "}\n",
    "emit_p = {\n",
    "    \"sunny\": {\"shorts\": 0.6, \"coat\": 0.3, \"umberlla\": 0.1},\n",
    "    \"rainy\": {\"shorts\": 0.05, \"coat\": 0.3, \"umberlla\": 0.65},\n",
    "    \"cloudy\":{\"shorts\":0.0,\"coat\":0.5,\"umberlla\":0.5}\n",
    "}\n",
    "\n",
    "result = viterbi(observations, states, start_p, trans_p, emit_p)\n",
    "print(\"Most likely hidden state sequence:\", result)"
   ]
  }
 ],
 "metadata": {
  "kernelspec": {
   "display_name": "Python 3 (ipykernel)",
   "language": "python",
   "name": "python3"
  },
  "language_info": {
   "codemirror_mode": {
    "name": "ipython",
    "version": 3
   },
   "file_extension": ".py",
   "mimetype": "text/x-python",
   "name": "python",
   "nbconvert_exporter": "python",
   "pygments_lexer": "ipython3",
   "version": "3.11.4"
  }
 },
 "nbformat": 4,
 "nbformat_minor": 5
}
